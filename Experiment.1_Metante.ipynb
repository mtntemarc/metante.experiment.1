{
 "cells": [
  {
   "cell_type": "markdown",
   "id": "a6167ce0-62e0-43e4-8fc4-1ccac88c326d",
   "metadata": {},
   "source": [
    "Marc Gabriel Metante -  Experiment 1 / PA 1"
   ]
  },
  {
   "cell_type": "code",
   "execution_count": 35,
   "id": "54dbdcdf-31ac-4e7f-9b40-0be2bb5ba52e",
   "metadata": {
    "scrolled": true
   },
   "outputs": [
    {
     "name": "stdout",
     "output_type": "stream",
     "text": [
      "aabcdeefghijklmnoooopqrrstuuvwxyz\n"
     ]
    }
   ],
   "source": [
    "# Alphabet Soup Problem\n",
    "\n",
    "# Start Program\n",
    "# Define Function\n",
    "def alphabet_soup(string):\n",
    "    # Sort Characters\n",
    "    char_list = list(string)\n",
    "    \n",
    "    # Sort in Alphabetical Order\n",
    "    sorted_list = sorted(char_list)\n",
    "    \n",
    "    # Joins into a single string\n",
    "    sorted_string = ''.join(sorted_list)\n",
    "    \n",
    "    #Return Sorted String\n",
    "    return sorted_string    \n",
    "\n",
    "# Output\n",
    "print(alphabet_soup(\"thequickbrownfoxjumpsoveralazydog\"))  \n"
   ]
  },
  {
   "cell_type": "code",
   "execution_count": 36,
   "id": "3bb7343c-4413-4dbe-a6e4-8c3d3e64db45",
   "metadata": {},
   "outputs": [
    {
     "name": "stdout",
     "output_type": "stream",
     "text": [
      "hi brizza, even when i feel :( or >:( , your :) and :D always cheer me up.\n"
     ]
    }
   ],
   "source": [
    "# Emoticon Problem \n",
    "\n",
    "# Start Program\n",
    "# Define Function\n",
    "def emotify(sentence):\n",
    "    \n",
    "    # Split the sentence into a list of words\n",
    "    words = sentence.split()\n",
    "\n",
    "    # Initialize an empty list to store the converted words or emoticons\n",
    "    result = []\n",
    "\n",
    "    # Use of If Else Statement\n",
    "    for word in words:\n",
    "        if word == \"smile\":\n",
    "            result.append(\":)\")\n",
    "        elif word == \"grin\":\n",
    "            result.append(\":D\")\n",
    "        elif word == \"sad\":\n",
    "            result.append(\":(\")\n",
    "        elif word == \"mad\":\n",
    "            result.append(\">:(\")\n",
    "        else:\n",
    "            # keep it as is, if it does not match anything\n",
    "            result.append(word)\n",
    "\n",
    "    # Joins into a single string\n",
    "    return ' '.join(result)\n",
    "\n",
    "# Output\n",
    "print(emotify(\"hi brizza, even when i feel sad or mad , your smile and grin always cheer me up.\"))\n",
    "\n"
   ]
  },
  {
   "cell_type": "code",
   "execution_count": 37,
   "id": "172cd4af-1cc2-4a11-b547-0faa4557cf92",
   "metadata": {},
   "outputs": [
    {
     "name": "stdout",
     "output_type": "stream",
     "text": [
      "first: 1\n",
      "middle: [2, 3, 4, 5]\n",
      "last: 6\n"
     ]
    }
   ],
   "source": [
    "# Unpacking List Problem\n",
    "\n",
    "# Start Program\n",
    "# List\n",
    "lst = [1, 2, 3, 4, 5, 6]\n",
    "\n",
    "# Set Code to differentiate the first, middle, and last.\n",
    "\n",
    "first = lst[0] # first index 0\n",
    "\n",
    "last = lst[-1] # -1, therefore it would count backward\n",
    "\n",
    "middle = lst[1:-1] # Counts the first index (second) til it stops to the last index\n",
    "\n",
    "# Output\n",
    "print(\"first:\", first)\n",
    "print(\"middle:\", middle)\n",
    "print(\"last:\", last)\n"
   ]
  },
  {
   "cell_type": "code",
   "execution_count": null,
   "id": "39fdeda4-13e2-435b-8c20-de282ae4cf93",
   "metadata": {},
   "outputs": [],
   "source": []
  }
 ],
 "metadata": {
  "kernelspec": {
   "display_name": "Python 3 (ipykernel)",
   "language": "python",
   "name": "python3"
  },
  "language_info": {
   "codemirror_mode": {
    "name": "ipython",
    "version": 3
   },
   "file_extension": ".py",
   "mimetype": "text/x-python",
   "name": "python",
   "nbconvert_exporter": "python",
   "pygments_lexer": "ipython3",
   "version": "3.12.4"
  }
 },
 "nbformat": 4,
 "nbformat_minor": 5
}
